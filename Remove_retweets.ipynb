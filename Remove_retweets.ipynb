{
 "cells": [
  {
   "cell_type": "code",
   "execution_count": 1,
   "metadata": {
    "collapsed": true
   },
   "outputs": [],
   "source": [
    "#Set up Working directory and import packages\n",
    "\n",
    "import os\n",
    "import json\n",
    "import pandas as pd\n",
    "import matplotlib.pyplot as plt\n",
    "from wordcloud import WordCloud, STOPWORDS\n",
    "\n",
    "os.getcwd()\n",
    "os.chdir('C:\\\\Users\\\\Daisy W')"
   ]
  },
  {
   "cell_type": "code",
   "execution_count": 2,
   "metadata": {
    "collapsed": false
   },
   "outputs": [
    {
     "name": "stdout",
     "output_type": "stream",
     "text": [
      "104912\n"
     ]
    }
   ],
   "source": [
    "#Read raw data file\n",
    "\n",
    "tweet_data_path = 'youthleadership_4.txt'\n",
    "\n",
    "tweets_data = []\n",
    "\n",
    "tweets_file = open(tweet_data_path, 'r')\n",
    "for line in tweets_file:\n",
    "    try:\n",
    "        tweet  = json.loads(line)\n",
    "        tweets_data.append(tweet)\n",
    "    except:\n",
    "        continue\n",
    "        \n",
    "print(len(tweets_data))"
   ]
  },
  {
   "cell_type": "code",
   "execution_count": 3,
   "metadata": {
    "collapsed": false
   },
   "outputs": [
    {
     "name": "stdout",
     "output_type": "stream",
     "text": [
      "104880\n"
     ]
    }
   ],
   "source": [
    "#Remove tweets that are retweeted(remove items with key'retweeted' = True)\n",
    "\n",
    "tweets_Rt_Removed = []\n",
    "\n",
    "for tweet in tweets_data:\n",
    "    try:\n",
    "        if not tweet['retweeted']:  \n",
    "            tweets_Rt_Removed.append(tweet)\n",
    "    except KeyError:\n",
    "        pass \n",
    "        \n",
    "print(len(tweets_Rt_Removed))"
   ]
  },
  {
   "cell_type": "code",
   "execution_count": 5,
   "metadata": {
    "collapsed": false,
    "scrolled": true
   },
   "outputs": [
    {
     "data": {
      "text/plain": [
       "{'contributors': None,\n",
       " 'coordinates': None,\n",
       " 'created_at': 'Thu Mar 09 15:14:20 +0000 2017',\n",
       " 'entities': {'hashtags': [], 'symbols': [], 'urls': [], 'user_mentions': []},\n",
       " 'favorite_count': 0,\n",
       " 'favorited': False,\n",
       " 'filter_level': 'low',\n",
       " 'geo': None,\n",
       " 'id': 839856889080901633,\n",
       " 'id_str': '839856889080901633',\n",
       " 'in_reply_to_screen_name': None,\n",
       " 'in_reply_to_status_id': None,\n",
       " 'in_reply_to_status_id_str': None,\n",
       " 'in_reply_to_user_id': None,\n",
       " 'in_reply_to_user_id_str': None,\n",
       " 'is_quote_status': False,\n",
       " 'lang': 'en',\n",
       " 'place': None,\n",
       " 'retweet_count': 0,\n",
       " 'retweeted': False,\n",
       " 'source': '<a href=\"http://twitter.com/download/android\" rel=\"nofollow\">Twitter for Android</a>',\n",
       " 'text': 'nepalese youth!do not forgot that you are nepalese and remember, little girl, that one day you must be a nepalese mother....',\n",
       " 'timestamp_ms': '1489072460800',\n",
       " 'truncated': False,\n",
       " 'user': {'contributors_enabled': False,\n",
       "  'created_at': 'Thu Jan 19 13:52:19 +0000 2017',\n",
       "  'default_profile': True,\n",
       "  'default_profile_image': False,\n",
       "  'description': 'journalist',\n",
       "  'favourites_count': 345,\n",
       "  'follow_request_sent': None,\n",
       "  'followers_count': 83,\n",
       "  'following': None,\n",
       "  'friends_count': 131,\n",
       "  'geo_enabled': False,\n",
       "  'id': 822079242229817344,\n",
       "  'id_str': '822079242229817344',\n",
       "  'is_translator': False,\n",
       "  'lang': 'en',\n",
       "  'listed_count': 1,\n",
       "  'location': 'Nepal',\n",
       "  'name': 'बाङ्गाे लठ्ठी',\n",
       "  'notifications': None,\n",
       "  'profile_background_color': 'F5F8FA',\n",
       "  'profile_background_image_url': '',\n",
       "  'profile_background_image_url_https': '',\n",
       "  'profile_background_tile': False,\n",
       "  'profile_banner_url': 'https://pbs.twimg.com/profile_banners/822079242229817344/1484837166',\n",
       "  'profile_image_url': 'http://pbs.twimg.com/profile_images/827306134067240960/5NEduuyO_normal.jpg',\n",
       "  'profile_image_url_https': 'https://pbs.twimg.com/profile_images/827306134067240960/5NEduuyO_normal.jpg',\n",
       "  'profile_link_color': '1DA1F2',\n",
       "  'profile_sidebar_border_color': 'C0DEED',\n",
       "  'profile_sidebar_fill_color': 'DDEEF6',\n",
       "  'profile_text_color': '333333',\n",
       "  'profile_use_background_image': True,\n",
       "  'protected': False,\n",
       "  'screen_name': '0000017576nabin',\n",
       "  'statuses_count': 406,\n",
       "  'time_zone': None,\n",
       "  'url': None,\n",
       "  'utc_offset': None,\n",
       "  'verified': False}}"
      ]
     },
     "execution_count": 5,
     "metadata": {},
     "output_type": "execute_result"
    }
   ],
   "source": [
    "#Check the result\n",
    "\n",
    "tweets_Rt_Removed[9]"
   ]
  },
  {
   "cell_type": "code",
   "execution_count": null,
   "metadata": {
    "collapsed": true
   },
   "outputs": [],
   "source": []
  }
 ],
 "metadata": {
  "kernelspec": {
   "display_name": "Python 3",
   "language": "python",
   "name": "python3"
  },
  "language_info": {
   "codemirror_mode": {
    "name": "ipython",
    "version": 3
   },
   "file_extension": ".py",
   "mimetype": "text/x-python",
   "name": "python",
   "nbconvert_exporter": "python",
   "pygments_lexer": "ipython3",
   "version": "3.6.0"
  }
 },
 "nbformat": 4,
 "nbformat_minor": 2
}
